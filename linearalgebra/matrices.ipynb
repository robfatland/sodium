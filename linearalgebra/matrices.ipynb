{
 "cells": [
  {
   "cell_type": "markdown",
   "id": "580fdadd-392b-4e38-af45-60fa7101aeef",
   "metadata": {},
   "source": [
    "# Linear Algebra using Python's `numpy` library\n",
    "\n",
    "\n",
    "\n",
    "The purpose of this notebook is to develop a basic familiarity with Python's native linear algebra support.\n",
    "This is accomplished in two parts, the first being motivated by different types of matrix factorization and\n",
    "the second motivated by graph theory.\n",
    "\n",
    "\n",
    "\n",
    "* Part 1: Factoring matrices in six different ways (courtesy Gilbert Strang)\n",
    "* Part 2: Spectral graph theory, adapting a graph to matrix representation and then 'reading the eigenvalue tea leaves'\n",
    "\n",
    "\n",
    "\n",
    "> Is this notebook fully realized? No! Not by a long shot! It is under development. Here are some issues.\n",
    "> - reference versus value passing should be doped out: Make sure not breaking values\n",
    "> - same with mutable / immutable: should be clear\n",
    "> - use NetworkX representation of G?\n",
    "\n",
    "\n",
    "## Part 1: Matrix factorizations\n",
    "\n",
    "\n",
    "[According to our dear friend Gilbert Strang](https://youtu.be/YrHlHbtiSM0?si=MXanoTEHWOVHNUFX) \n",
    "there are five essential factorization plans for a given matrix $A$ as the basis, pardon\n",
    "the double entendre, for beginning linear algebra. Here the matrix $A$ consists of a rectangular \n",
    "array of numbers that corresponds to a linear transform operating on a vector space.\n",
    "\n",
    "\n",
    "Before listing the factorizations I will mention the above link is a five minute overview.\n",
    "The full on 'crash course hour-long lecture' on this topic by Professor Strang is \n",
    "[here](https://youtu.be/nTwRjQ4xqUc?si=k0Dui4Y_lC737F2y), highly recommended.\n",
    "\n",
    "\n",
    "Here are those five factorizations as a list of six. Because let's face it, \n",
    "six is equal to five for small values of six.\n",
    "\n",
    "\n",
    "1) $A = C \\cdot R$ where $rank(A) = r$ gets us to the $C$-matrix column space and the $R$-matrix row space, respectively $(m \\times r) \\; (r \\times n)$\n",
    "\n",
    "\n",
    "2) $A = LU$ where $A$ is typically square and $L$ and $U$ are respectively *lower* and *upper* triangular... sometimes a permutation matrix $P$ is introduced as well ($PA=LU$)\n",
    "\n",
    "\n",
    "3) $A = Q \\cdot R$ where the columns of $Q$ are orthogonal vectors\n",
    "\n",
    "\n",
    "4) $S = Q \\Lambda Q^T$ giving an eigendecomposition from $S q = \\lambda q$\n",
    "\n",
    "\n",
    "5) $A = X \\Lambda X^{-1}$ more eigen-development, $A x = \\lambda x$\n",
    "\n",
    "\n",
    "6) $A = U \\Sigma V^T$ for Singular Value Decomposition\n",
    "\n",
    "\n",
    "I will intersperse more extensive comments in the subsections that follow.\n",
    "\n",
    "### Part 1.0 Building a matrix A\n",
    "\n",
    "\n",
    "Using the Python `numpy` and `scipy` libraries (abbreviated `np` and `sp`) we have a \n",
    "drawer full of functions and attributes on hand. This includes an implicit \n",
    "format for matrix content based on the multidimensional array structure\n",
    "called `ndarray` in `numpy`. \n",
    "\n",
    "\n",
    "This section builds a test matrix $A$ which is subjected to factorization\n",
    "in subsequent sections. \n",
    "\n",
    "\n",
    "- Below is a non-trivial example of the construction syntax (from a list of lists). \n",
    "- There is a bias towards row-format...\n",
    "    - ...but the array has an *attribute* **`.T`**: The transpose of the ndarray\n",
    "- Another common attribute is **`.shape`**: The two dimensions (rows and columns) of the ndarray \n",
    "\n",
    "\n",
    "```\n",
    "import numpy as np\n",
    "\n",
    "row0 = [1, 2]\n",
    "row1 = [-1, 1]\n",
    "A = np.array([row0, row1])\n",
    "print(A, '\\n\\n', A.T)\n",
    "\n",
    "[[ 1  2]\n",
    " [-1  1]] \n",
    "\n",
    " [[ 1 -1]\n",
    " [ 2  1]]\n",
    "```"
   ]
  },
  {
   "cell_type": "code",
   "execution_count": 1,
   "id": "b7e0016a-81d8-4380-a9d3-b0987cae6650",
   "metadata": {
    "tags": []
   },
   "outputs": [],
   "source": [
    "import numpy as np, scipy as sp\n",
    "from random import random, randint    # randint range is inclusive\n",
    "\n",
    "\n",
    "def generate_random_integer_valued_matrix(n, m, low_limit, high_limit):\n",
    "    matrix_list = []\n",
    "    for row_counter in range(n_rows):\n",
    "        matrix_list.append([randint(low_limit, high_limit) for i in range(m_cols)])\n",
    "    return np.array(matrix_list)\n"
   ]
  },
  {
   "cell_type": "code",
   "execution_count": 2,
   "id": "fc74e8b1-fe3b-4549-a4ce-2dd9e79139c2",
   "metadata": {
    "tags": []
   },
   "outputs": [
    {
     "data": {
      "text/plain": [
       "array([[-1, -2, -1, -2, -2],\n",
       "       [-1,  0, -1,  0,  2],\n",
       "       [ 1,  0, -1, -1,  1],\n",
       "       [ 0,  2, -1,  2, -2],\n",
       "       [ 2,  3,  1,  0,  2]])"
      ]
     },
     "execution_count": 2,
     "metadata": {},
     "output_type": "execute_result"
    }
   ],
   "source": [
    "n_rows, m_cols = 5,5                # experiment with these!\n",
    "\n",
    "A = generate_random_integer_valued_matrix(n_rows, m_cols, -3, 3)\n",
    "\n",
    "A"
   ]
  },
  {
   "cell_type": "markdown",
   "id": "80e72c02-c38a-4804-bf74-5425ae197154",
   "metadata": {},
   "source": [
    "`A` is our matrix of interest; and technically in Python it is a **numpy.ndarray** with dimension 2. \n",
    "\n",
    "\n",
    "Again: `A.shape` is an *attribute* of the `A` object. In fact it is\n",
    "a 2-tuple with values `(n_rows, m_cols)`. These values can be used directly as `A.shape[0]` and `A.shape[1]`.\n",
    "\n",
    "\n",
    "An element of `A` can be indexed using a tuple-subscript or a multi-subscript: `A[0, 2]` or `A[0][2]`.\n",
    "The first value is row index, then column index.\n",
    "\n",
    "\n",
    "Often matrix operations produce goofy scientific notation results like `0.999999e+00` instead of `1`.\n",
    "I use the `round(a, b)` function to clean this up and make it more readable. "
   ]
  },
  {
   "cell_type": "code",
   "execution_count": 3,
   "id": "27fab6ca-0dc3-49f8-b8a1-943ab938fb36",
   "metadata": {
    "tags": []
   },
   "outputs": [
    {
     "name": "stdout",
     "output_type": "stream",
     "text": [
      "Check this indexing against the printout of A above: A[0,2] versus A[2][0]:  -1  versus  1\n"
     ]
    }
   ],
   "source": [
    "if not A.shape == (n_rows, m_cols): print(\"A.shape is bent outta shape!\")       # sanity check\n",
    "print('Check this indexing against the printout of A above: A[0,2] versus A[2][0]: ', A[0,2], ' versus ', A[2][0])"
   ]
  },
  {
   "cell_type": "markdown",
   "id": "69bfcfdb-8e15-40e5-94ec-f8fd331d211c",
   "metadata": {},
   "source": [
    "### Factorization 1: A = C R\n",
    "\n",
    "### Factorization 2: A = L U\n",
    "\n",
    "\n",
    "This is the bread and butter of solving $A x = b$ for unknown $x$. The idea is to produce lower- and upper-triangular matrices\n",
    "$L$ and $U$. Now we have $A x = b$ with $x$ what we are solving for. Substitute:\n",
    "\n",
    "\n",
    "$L U x = b$\n",
    "\n",
    "\n",
    "Since matrix multiplication is associative, $(AB)C = A(BC)$, we can write this as\n",
    "\n",
    "\n",
    "$L (U x) = b$\n",
    "\n",
    "\n",
    "Suppose $U x$ gives us a vector $c$: $U x = c$. Then $L c = b$. Since $L$ is lower-triangular it is quite easy to solve for this $c$ vector. \n",
    "Then we can proceed to solve for $x$ in $U x = c$ (because $c$ is now known and again 'triangular makes solving easy); and there we are at the solution. "
   ]
  },
  {
   "cell_type": "code",
   "execution_count": 5,
   "id": "d3952a1b-a5f4-4990-98fd-be3c5b2dd78e",
   "metadata": {
    "tags": []
   },
   "outputs": [
    {
     "name": "stdout",
     "output_type": "stream",
     "text": [
      "matrix A:\n",
      "\n",
      " [[-1 -2 -1 -2 -2]\n",
      " [-1  0 -1  0  2]\n",
      " [ 1  0 -1 -1  1]\n",
      " [ 0  2 -1  2 -2]\n",
      " [ 2  3  1  0  2]] \n",
      "\n",
      "\n",
      "permutation matrix P:\n",
      "\n",
      " [[0. 0. 0. 1. 0.]\n",
      " [0. 0. 0. 0. 1.]\n",
      " [0. 0. 1. 0. 0.]\n",
      " [0. 1. 0. 0. 0.]\n",
      " [1. 0. 0. 0. 0.]] \n",
      "\n",
      "\n",
      "L:\n",
      "\n",
      " [[ 1.     0.     0.     0.     0.   ]\n",
      " [ 0.     1.     0.     0.     0.   ]\n",
      " [ 0.5   -0.75   1.     0.     0.   ]\n",
      " [-0.5   -0.25   0.333  1.     0.   ]\n",
      " [-0.5    0.75  -0.111  0.867  1.   ]] \n",
      "\n",
      "\n",
      "U:\n",
      "\n",
      " [[ 2.     3.     1.     0.     2.   ]\n",
      " [ 0.     2.    -1.     2.    -2.   ]\n",
      " [ 0.     0.    -2.25   0.5   -1.5  ]\n",
      " [ 0.     0.     0.    -1.667 -1.   ]\n",
      " [ 0.     0.     0.     0.     5.2  ]] \n",
      "\n",
      "\n",
      "PLU - A: \n",
      "\n",
      " [[ 0.  0.  0.  0.  0.]\n",
      " [ 0.  0.  0.  0. -0.]\n",
      " [ 0.  0.  0.  0.  0.]\n",
      " [ 0.  0.  0.  0.  0.]\n",
      " [ 0.  0.  0.  0.  0.]] \n",
      "\n",
      "\n"
     ]
    }
   ],
   "source": [
    "np.set_printoptions(suppress=True)        # better-looking matrix prints\n",
    "\n",
    "print('matrix A:\\n\\n', A, '\\n\\n')\n",
    "\n",
    "P, L, U = sp.linalg.lu(A)\n",
    "\n",
    "print('permutation matrix P:\\n\\n', P, '\\n\\n')\n",
    "print('L:\\n\\n', np.around(L, 3), '\\n\\n')\n",
    "print('U:\\n\\n', np.around(U, 3), '\\n\\n')\n",
    "\n",
    "PLU_recovered = np.matmul(P, np.matmul(L, U))\n",
    "\n",
    "print(\"PLU - A: \\n\\n\", PLU_recovered - A, '\\n\\n')"
   ]
  },
  {
   "cell_type": "markdown",
   "id": "8dccaf5a-77b1-468a-afcd-989e546db91f",
   "metadata": {},
   "source": [
    "### Factorization 3: A = Q R"
   ]
  },
  {
   "cell_type": "code",
   "execution_count": 6,
   "id": "7a0405a2-7412-42f1-a8ed-1d5c5e4d10e6",
   "metadata": {
    "tags": []
   },
   "outputs": [
    {
     "name": "stdout",
     "output_type": "stream",
     "text": [
      "[[-1 -2 -1 -2 -2]\n",
      " [-1  0 -1  0  2]\n",
      " [ 1  0 -1 -1  1]\n",
      " [ 0  2 -1  2 -2]\n",
      " [ 2  3  1  0  2]] \n",
      "\n",
      "\n",
      "[[-0.37796447  0.30578831 -0.32177297  0.58619035  0.56256502]\n",
      " [-0.37796447 -0.40771775 -0.2649895   0.44647658 -0.64911348]\n",
      " [ 0.37796447  0.40771775 -0.77604068 -0.14578827 -0.25964539]\n",
      " [ 0.         -0.71350607 -0.46373163 -0.29765106  0.43274232]\n",
      " [ 0.75592895 -0.2548236   0.09463911  0.5892276   0.08654846]] \n",
      "\n",
      "\n",
      "[[ 2.64575131  3.02371578  1.13389342  0.37796447  1.88982237]\n",
      " [ 0.         -2.80305955  0.15289416 -2.44630652 -0.10192944]\n",
      " [ 0.          0.          1.92117388  0.49212336  0.45426772]\n",
      " [ 0.          0.          0.         -1.62189453  1.34854152]\n",
      " [ 0.          0.          0.          0.         -3.37539011]] \n",
      "\n",
      "\n",
      "[[-1. -2. -1. -2. -2.]\n",
      " [-1. -0. -1. -0.  2.]\n",
      " [ 1.  0. -1. -1.  1.]\n",
      " [ 0.  2. -1.  2. -2.]\n",
      " [ 2.  3.  1.  0.  2.]] \n",
      "\n",
      "\n"
     ]
    }
   ],
   "source": [
    "q_factor, r_factor = np.linalg.qr(A)\n",
    "A_recovered = np.matmul(q_factor, r_factor)\n",
    "print(A, '\\n\\n')\n",
    "print(q_factor, '\\n\\n')\n",
    "print(r_factor, '\\n\\n')\n",
    "print(A_recovered, '\\n\\n')"
   ]
  },
  {
   "cell_type": "markdown",
   "id": "57e28b92-866e-4527-8cc9-629093da9889",
   "metadata": {},
   "source": [
    "### Factorization 4 / 5"
   ]
  },
  {
   "cell_type": "markdown",
   "id": "47e82415-5963-486c-98d8-fd17204f31f4",
   "metadata": {},
   "source": [
    "### Factorization 6 SVD"
   ]
  },
  {
   "cell_type": "code",
   "execution_count": 7,
   "id": "6e52f629-cd4b-4578-b2c6-2fcdbab28855",
   "metadata": {
    "tags": []
   },
   "outputs": [
    {
     "name": "stdout",
     "output_type": "stream",
     "text": [
      "[[-1 -2 -1 -2 -2]\n",
      " [-1  0 -1  0  2]\n",
      " [ 1  0 -1 -1  1]\n",
      " [ 0  2 -1  2 -2]\n",
      " [ 2  3  1  0  2]] \n",
      "\n",
      "\n",
      "[[-0.64525455 -0.06332216  0.32988711  0.44603025 -0.52140999]\n",
      " [ 0.07518025 -0.34737698 -0.82633412  0.26158908 -0.34988604]\n",
      " [ 0.07692647 -0.32580057  0.1067238   0.70554142  0.61543289]\n",
      " [ 0.13198976  0.86584469 -0.2036708   0.43686486 -0.02364278]\n",
      " [ 0.74475198 -0.13959408  0.39430274  0.20973454 -0.47580957]] \n",
      "\n",
      "\n",
      "[[5.46363179 0.         0.         0.         0.        ]\n",
      " [0.         3.92308798 0.         0.         0.        ]\n",
      " [0.         0.         2.30727807 0.         0.        ]\n",
      " [0.         0.         0.         1.94313069 0.        ]\n",
      " [0.         0.         0.         0.         0.81167689]] \n",
      "\n",
      "\n",
      "[[ 0.39104113  0.69344801  0.20241299  0.2704359   0.50210567]\n",
      " [-0.04952466  0.36694345 -0.0685529   0.55673854 -0.740434  ]\n",
      " [ 0.60321133  0.05018571  0.42807876 -0.50875516 -0.43764625]\n",
      " [ 0.21480345  0.31437558 -0.84414861 -0.37252883 -0.0605217 ]\n",
      " [ 0.65926452 -0.53210126 -0.2418495   0.46829167  0.0667103 ]] \n",
      "\n",
      "\n",
      "[[-1. -2. -1. -2. -2.]\n",
      " [-1. -0. -1. -0.  2.]\n",
      " [ 1. -0. -1. -1.  1.]\n",
      " [ 0.  2. -1.  2. -2.]\n",
      " [ 2.  3.  1.  0.  2.]] \n",
      "\n",
      "\n"
     ]
    }
   ],
   "source": [
    "print(A, '\\n\\n')\n",
    "U, Sigma, VT = np.linalg.svd(A)\n",
    "print(U, '\\n\\n')\n",
    "print(np.diag(Sigma), '\\n\\n')\n",
    "print(VT, '\\n\\n')\n",
    "A_recovered = np.matmul(U, np.matmul(np.diag(Sigma), VT))\n",
    "print(A_recovered, '\\n\\n')"
   ]
  },
  {
   "cell_type": "markdown",
   "id": "59b0fb52-f1ae-4e76-8880-cbe53b82a913",
   "metadata": {},
   "source": [
    "## Part 2: Laplacian eigenvalues from spectral graph theory\n",
    "\n",
    "\n",
    "\n",
    "Here the idea is to create matrices from graphs, of a particular form named after Laplace.\n",
    "Once we have such a matrix the resulting eigenvalues are associated with characteristics \n",
    "of the graph. Kind of magical! My reference is **Spectral Graph Theory** by Fan Chung.\n",
    "\n",
    "\n",
    "Incidentally the ideal way to proceed would be from the 'two set' idea for forming a graph.\n",
    "The first set $V$ has some number of unique elements and the second set $E$ consists of pairs\n",
    "of elements of $V$. Now Python has `set` as a *type* so at first glance maybe that is the way to go."
   ]
  },
  {
   "cell_type": "code",
   "execution_count": 8,
   "id": "3c20e707-cfb5-4d03-89d1-4c7a917dad21",
   "metadata": {
    "tags": []
   },
   "outputs": [
    {
     "name": "stdout",
     "output_type": "stream",
     "text": [
      "{0, 1, 2, 3, 4, 5, 6} \n",
      "\n",
      "\n",
      "{(0, 1), (3, 4), (1, 4), (0, 5), (3, 6), (1, 6)} \n",
      "\n",
      "\n",
      "There are 7 vertices and 6 edges.\n",
      "\n"
     ]
    }
   ],
   "source": [
    "# Let's start by constructing random graph G\n",
    "# The vertices n in number are simply identified by integers 0 ... n-1.\n",
    "# Two vertices are connected by an edge with probability p.\n",
    "# Setting p to 1/2 pretty much guarantees G is connected\n",
    "# Self-loops are not allowed.\n",
    "# A set in Python is immutable (I think)\n",
    "\n",
    "\n",
    "n = 7\n",
    "p = 0.5\n",
    "V = set(range(n))\n",
    "\n",
    "\n",
    "E = []\n",
    "for i in range(n-1):\n",
    "    for j in range(i+1, n):\n",
    "        if random() < p:\n",
    "            E.append((i, j))\n",
    "\n",
    "E = set(E)\n",
    "e = len(E)\n",
    "\n",
    "print(V, '\\n\\n')\n",
    "print(E, '\\n\\n')\n",
    "print('There are ' + str(n) + ' vertices and ' + str(e) + ' edges.\\n')\n"
   ]
  },
  {
   "cell_type": "code",
   "execution_count": 9,
   "id": "a149227d-c2b0-430e-8687-fe9bec7d6c4e",
   "metadata": {
    "tags": []
   },
   "outputs": [],
   "source": [
    "import networkx as nx"
   ]
  },
  {
   "cell_type": "markdown",
   "id": "cfae9d2d-9a66-401b-bd86-280c4f83d0fc",
   "metadata": {},
   "source": [
    "### Section 2.0 Build a graph G\n",
    "\n",
    "\n",
    "Analogous to Section 1 where we build matrix A to be factored, here we want to build a graph G in the NetworkX library context. \n",
    "\n",
    "\n",
    "G = 1               # maybe upgrade this to a graph"
   ]
  },
  {
   "cell_type": "code",
   "execution_count": null,
   "id": "1195fa44-1031-4fb8-9d70-f48ae2a449c7",
   "metadata": {},
   "outputs": [],
   "source": []
  }
 ],
 "metadata": {
  "kernelspec": {
   "display_name": "Python 3 (ipykernel)",
   "language": "python",
   "name": "python3"
  },
  "language_info": {
   "codemirror_mode": {
    "name": "ipython",
    "version": 3
   },
   "file_extension": ".py",
   "mimetype": "text/x-python",
   "name": "python",
   "nbconvert_exporter": "python",
   "pygments_lexer": "ipython3",
   "version": "3.12.3"
  }
 },
 "nbformat": 4,
 "nbformat_minor": 5
}
