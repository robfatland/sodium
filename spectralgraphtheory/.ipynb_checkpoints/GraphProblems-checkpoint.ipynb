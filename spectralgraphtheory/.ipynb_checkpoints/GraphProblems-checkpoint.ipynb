{
 "cells": [
  {
   "cell_type": "markdown",
   "id": "4e6b4919-6637-447b-9fd1-1cac0377e9bb",
   "metadata": {},
   "source": [
    "# Problems\n",
    "\n",
    "\n",
    "From graph theory, is the intention."
   ]
  },
  {
   "cell_type": "markdown",
   "id": "1a423a2a-9ea0-4768-98cf-0141efd33449",
   "metadata": {},
   "source": [
    "Prove that a graph G with $2n$ vertices ($n \\; \\ge \\; 2$) and $n^2 + 1$ edges contains a triangle. "
   ]
  },
  {
   "cell_type": "markdown",
   "id": "4e6346dd-ec33-4866-8385-e46afeb34ab1",
   "metadata": {},
   "source": [
    "A wood-boring worm finds a 12-centimeter wooden cube comprised of 27 4-cm sub-cubes. \n",
    "The worm chooses an external face of one sub-cube and begins boring in to that sub-cube. \n",
    "The worm moves from one sub-cube to another always through shared faces. It does not move \n",
    "through corners or edges. Can this worm visit each sub-cube exactly once by some path\n",
    "such that the final sub-cube it visits is the center sub-cube? "
   ]
  },
  {
   "cell_type": "markdown",
   "id": "301a2f85-3cbd-4055-b998-ab48e995d0bb",
   "metadata": {},
   "source": [
    "## Leech trees\n",
    "\n",
    "\n",
    "Suppose $G$ is a tree graph with $n$ vertices. A positive integer weight is assigned to each of the $n-1$ edges. \n",
    "Let's say a *path sum* is a sum of weights while traversing the unique path between two vertices of $G$. \n",
    "\n",
    "\n",
    "A *Leech tree* is a graph where all paths generate path sums $\\{ 1, 2, 3, \\dots, n-choose-2 \\}$. \n",
    "Leech trees are easy to construct for a small number of vertices but only five are known. A \n",
    "theorem by Taylor shows that $n$ must either be a square or a square plus 2. \n"
   ]
  },
  {
   "cell_type": "code",
   "execution_count": null,
   "id": "34cab2c6-b341-4d03-8708-a8cf65a63037",
   "metadata": {},
   "outputs": [],
   "source": []
  }
 ],
 "metadata": {
  "kernelspec": {
   "display_name": "Python 3 (ipykernel)",
   "language": "python",
   "name": "python3"
  },
  "language_info": {
   "codemirror_mode": {
    "name": "ipython",
    "version": 3
   },
   "file_extension": ".py",
   "mimetype": "text/x-python",
   "name": "python",
   "nbconvert_exporter": "python",
   "pygments_lexer": "ipython3",
   "version": "3.11.4"
  }
 },
 "nbformat": 4,
 "nbformat_minor": 5
}
