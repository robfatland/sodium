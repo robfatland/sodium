{
 "cells": [
  {
   "cell_type": "markdown",
   "metadata": {},
   "source": [
    "\n",
    "## Spectral graph theory\n",
    "\n",
    "A graph $G$ is a pair of related sets $V$ and $E$ where$|V|=n$. The elements of $E$ are \n",
    "un-ordered pairs of elements of $V$ with no repeats. A particular vertex is often called\n",
    "$u$ or $v$ and each vertex has degree $d_u$. We disallow loops and multiple edges at the\n",
    "outset, noting that multiple edges can be interpreted as edge weights in future developments. \n",
    "\n",
    "\n",
    "\n",
    "A graph may have multiple connected components.\n",
    "\n",
    "\n",
    "\n",
    "There is a lot of additional preliminary terminology to set up.\n",
    "\n",
    "\n",
    "\n",
    "* $vol\\;G\\;=\\;\\sum_{v}{d_v}$\n",
    "\n",
    "\n",
    "\n",
    "- A graph can be represented as either a Laplacian or a normalized Laplacian $n\\;\\times\\;n$ matrix\n",
    "- For an un-directed graph this will be real symmetric and will have real non-negative eigenvalues\n",
    "- These $n$ eigenvalues are sorted in increasing order $\\{\\lambda_0,\\;\\lambda_1,\\;\\lambda_2\\;\\dots\\;\\lambda_{n-1}\\}$\n",
    "    - ...using Chung's subscript notation beginning at 0\n",
    "- The number of 0 eigenvalues corresponds to the number of connected components.\n",
    "\n",
    "\n",
    "Define a cut as a (minimal) collection of cut edges to break the graph into disconnected sub-graphs.\n",
    "Cuts indicate relatively low connectivity.\n",
    "\n",
    "Isoperimetric ratio $\\theta(S)$ I refer to as IPR. \n",
    "\n",
    "Important in getting to Cheeger's inequality: Rayleigh quotients of eigenvalues orthogonal to\n",
    "the $1$ vector corresponding to $\\lambda_0=0$. The RQ is used in an upper bound on IPR. The \n",
    "second eigenvalue $\\lambda_1$ is used in like fashion to give an upper bound of the IPR of G. \n",
    "That is we want to find vertex subsets S with low isoperimetry.\n",
    "\n",
    "Something like $\\theta(S_t)\\le \\sqrt{2d\\lambda_1}$.\n",
    "\n",
    "It would be helpful to work some examples. \n",
    "\n",
    "Cheeger's inequality can be generalized for k-clustering. \n",
    " "
   ]
  },
  {
   "cell_type": "code",
   "execution_count": 1,
   "metadata": {
    "tags": []
   },
   "outputs": [],
   "source": [
    "import sys, time                              # can be used to halt programs that run long\n",
    "import numpy as np                            # linear algebra\n",
    "import matplotlib\n",
    "import matplotlib.pyplot as plt\n",
    "import networkx as nx\n",
    "import random as r                            # method random(): uniform distribution on (0, 1)\n",
    "from numpy import zeros\n",
    "import warnings; warnings.simplefilter('ignore')"
   ]
  },
  {
   "cell_type": "code",
   "execution_count": 2,
   "metadata": {
    "tags": []
   },
   "outputs": [],
   "source": [
    "def eigensketch(G, threshold = 9):\n",
    "    import numpy.linalg\n",
    "\n",
    "    n = len(G.nodes())\n",
    "    L = nx.normalized_laplacian_matrix(G)\n",
    "    e, v = numpy.linalg.eig(L.A)\n",
    "    e.sort()\n",
    "\n",
    "    e = [e[i] if e[i] > 1e-14 else 0 for i in range(len(e))]\n",
    "    msg = \"Eigenvalues: \"\n",
    "    nTerms = min(n, threshold)\n",
    "    msg += '%.2f' % e[0]\n",
    "    for i in range(1, nTerms): msg += ', ' + '%.2f' % e[i]\n",
    "    if   n == threshold + 1: msg += ', ' + '%.2f' % e[-1]\n",
    "    elif n == threshold + 2: msg += ', ' + '%.2f' % e[-2] + ', ' + '%.2f' % e[-1]\n",
    "    elif n  > threshold + 2: msg += ', ..., ' + '%.2f' % e[-2] + ', ' + '%.2f' % e[-1]\n",
    "\n",
    "    print(msg)\n",
    "    \n",
    "def hamiltonian(G):\n",
    "    F = [(G,[list(G.nodes())[0]])]   # A one-element list -> a 2-ple [(G, label of node 0 of G)]\n",
    "    n = G.number_of_nodes()\n",
    "    while F:\n",
    "        graph,path = F.pop()\n",
    "        confs = []\n",
    "        neighbors = (node for node in graph.neighbors(path[-1]) if node != path[-1]) #exclude self loops\n",
    "        for neighbor in neighbors:\n",
    "            conf_p = path[:]\n",
    "            conf_p.append(neighbor)\n",
    "            conf_g = nx.Graph(graph)\n",
    "            conf_g.remove_node(path[-1])\n",
    "            confs.append((conf_g,conf_p))\n",
    "        for g,p in confs:\n",
    "            if len(p) == n: return p\n",
    "            else:           F.append((g,p))\n",
    "    return None"
   ]
  },
  {
   "cell_type": "code",
   "execution_count": 8,
   "metadata": {
    "tags": []
   },
   "outputs": [
    {
     "name": "stdout",
     "output_type": "stream",
     "text": [
      "[0, 19, 18, 17, 14, 15, 16, 10, 13, 12, 11, 9, 7, 6, 8, 5, 4, 3, 2, 1]\n"
     ]
    }
   ],
   "source": [
    "G = nx.random_geometric_graph(20, 0.60)\n",
    "F = hamiltonian(G)\n",
    "print(F)"
   ]
  },
  {
   "cell_type": "code",
   "execution_count": 9,
   "metadata": {
    "tags": []
   },
   "outputs": [
    {
     "name": "stdout",
     "output_type": "stream",
     "text": [
      "Eigenvalues: 0.00, 0.66, 0.79, 0.95, 0.97, 1.02, 1.03, 1.04, 1.05, 1.06, 1.06, 1.07, 1.09, 1.11, 1.12, 1.14, 1.17, 1.20, 1.22, 1.26\n"
     ]
    }
   ],
   "source": [
    "eigensketch(G, 18)"
   ]
  },
  {
   "cell_type": "code",
   "execution_count": 10,
   "metadata": {
    "tags": []
   },
   "outputs": [
    {
     "data": {
      "text/plain": [
       "array([-1.40191851e-16,  7.45345291e-01,  8.62763048e-01,  9.98400246e-01,\n",
       "        1.08022308e+00,  1.21991662e+00,  1.23789054e+00,  1.29094787e+00,\n",
       "        1.30978438e+00,  1.39224711e+00,  1.46048072e+00,  1.59501395e+00,\n",
       "        1.64842409e+00,  1.71816614e+00,  1.79835075e+00,  1.82965992e+00,\n",
       "        1.90000000e+00,  1.91238623e+00,  2.00000000e+00,  2.00000000e+00])"
      ]
     },
     "execution_count": 10,
     "metadata": {},
     "output_type": "execute_result"
    }
   ],
   "source": [
    "nx.laplacian_spectrum(G)/10"
   ]
  },
  {
   "cell_type": "markdown",
   "metadata": {},
   "source": [
    "```\n",
    "F = hamiltonian(G)    # run with 20 vertices and p = 0.4; single component graph\n",
    "F                     # will give an H path (not cycle)\n",
    "\n",
    "[0, 3, 4, 16, 19, 17, 14, 13, 11, 12, 18, 9, 8, 5, 7, 1, 10, 6, 15, 2]\n",
    "```\n",
    "\n",
    "Let's decipher the brute force code above. $n$ is the number of nodes in $G$. Here is a paraphrase of a repl: \n",
    "\n",
    "```\n",
    "F = [(G,[list(G.nodes())[0]])]\n",
    "print(type(F[0]), len(F[0]), type(F[0][0]), type(F[0][1]), len(F[0][1]), type(F[0][1][0]), F[0][1][0])\n",
    "\n",
    "'tuple', 2, graph G, 'list', 1, 'int', 0\n",
    "```\n",
    "\n",
    "From this we see that F is a list of one element; which is a 2-ple: The passed graph G and (second) a list of length 1, with list[0] = 0. \n",
    "This zero is the index of the first element of G's node list, i.e. the start of a path. The second element of the tuple (i.e. the list) \n",
    "will prove to be a path of vertices. \n",
    "\n",
    "\n",
    "The `while` loop runs until `F` is empty.\n",
    "\n",
    "\n",
    "`graph, path = F.pop()` breaks out the `F` tuple into `graph` and `path`; leaving `F` an empty list after the pop(). Remember `path` will grow.\n",
    "\n",
    "\n",
    "`confs` is an empty list that grows as we go. It accumulates (Graph, path-list) tuples.\n",
    "\n",
    "\n",
    "`neighbors` is a list of nodes that are neighbors to the last node on the working `path`... excluding that node itself. This implies that if \n",
    "G has self-loops then `.neighbors(node)` would include 'myself'.  \n",
    "\n",
    "Incidentally `G.neighbors(node)` returns an enumerable; I found it expedient to use it like `range()`: \n",
    "\n",
    "```\n",
    "for i in G.neighbors(4): print(i)\n",
    "\n",
    "9 18 11 13 6 8 17 19 1 3 12 5 14 7 16\n",
    "```\n",
    "\n",
    "As the while progresses brute force additions are made to generate new paths and graphs that have the newest path vertext removed. \n",
    "I'll leave it at that for now but it is an interesting bit of code. "
   ]
  },
  {
   "cell_type": "code",
   "execution_count": 13,
   "metadata": {
    "tags": []
   },
   "outputs": [
    {
     "name": "stdout",
     "output_type": "stream",
     "text": [
      "Compute the eigenvalues and right eigenvectors of a square array.\n",
      "\n",
      "Parameters\n",
      "----------\n",
      "a : (..., M, M) array\n",
      "    Matrices for which the eigenvalues and right eigenvectors will\n",
      "    be computed\n",
      "\n",
      "Returns\n",
      "-------\n",
      "A namedtuple with the following attributes:\n",
      "\n",
      "eigenvalues : (..., M) array\n",
      "    The eigenvalues, each repeated according to its multiplicity.\n",
      "    The eigenvalues are not necessarily ordered. The resulting\n",
      "    array will be of complex type, unless the imaginary part is\n",
      "    zero in which case it will be cast to a real type. When `a`\n",
      "    is real the resulting eigenvalues will be real (0 imaginary\n",
      "    part) or occur in conjugate pairs\n",
      "\n",
      "eigenvectors : (..., M, M) array\n",
      "    The normalized (unit \"length\") eigenvectors, such that the\n",
      "    column ``eigenvectors[:,i]`` is the eigenvector corresponding to the\n",
      "    eigenvalue ``eigenvalues[i]``.\n",
      "\n",
      "Raises\n",
      "------\n",
      "LinAlgError\n",
      "    If the eigenvalue computation does not converge.\n",
      "\n",
      "See Also\n",
      "--------\n",
      "eigvals : eigenvalues of a non-symmetric array.\n",
      "eigh : eigenvalues and eigenvectors of a real symmetric or complex\n",
      "       Hermitian (conjugate symmetric) array.\n",
      "eigvalsh : eigenvalues of a real symmetric or complex Hermitian\n",
      "           (conjugate symmetric) array.\n",
      "scipy.linalg.eig : Similar function in SciPy that also solves the\n",
      "                   generalized eigenvalue problem.\n",
      "scipy.linalg.schur : Best choice for unitary and other non-Hermitian\n",
      "                     normal matrices.\n",
      "\n",
      "Notes\n",
      "-----\n",
      "\n",
      ".. versionadded:: 1.8.0\n",
      "\n",
      "Broadcasting rules apply, see the `numpy.linalg` documentation for\n",
      "details.\n",
      "\n",
      "This is implemented using the ``_geev`` LAPACK routines which compute\n",
      "the eigenvalues and eigenvectors of general square arrays.\n",
      "\n",
      "The number `w` is an eigenvalue of `a` if there exists a vector `v` such\n",
      "that ``a @ v = w * v``. Thus, the arrays `a`, `eigenvalues`, and\n",
      "`eigenvectors` satisfy the equations ``a @ eigenvectors[:,i] =\n",
      "eigenvalues[i] * eigenvalues[:,i]`` for :math:`i \\in \\{0,...,M-1\\}`.\n",
      "\n",
      "The array `eigenvectors` may not be of maximum rank, that is, some of the\n",
      "columns may be linearly dependent, although round-off error may obscure\n",
      "that fact. If the eigenvalues are all different, then theoretically the\n",
      "eigenvectors are linearly independent and `a` can be diagonalized by a\n",
      "similarity transformation using `eigenvectors`, i.e, ``inv(eigenvectors) @\n",
      "a @ eigenvectors`` is diagonal.\n",
      "\n",
      "For non-Hermitian normal matrices the SciPy function `scipy.linalg.schur`\n",
      "is preferred because the matrix `eigenvectors` is guaranteed to be\n",
      "unitary, which is not the case when using `eig`. The Schur factorization\n",
      "produces an upper triangular matrix rather than a diagonal matrix, but for\n",
      "normal matrices only the diagonal of the upper triangular matrix is\n",
      "needed, the rest is roundoff error.\n",
      "\n",
      "Finally, it is emphasized that `eigenvectors` consists of the *right* (as\n",
      "in right-hand side) eigenvectors of `a`. A vector `y` satisfying ``y.T @ a\n",
      "= z * y.T`` for some number `z` is called a *left* eigenvector of `a`,\n",
      "and, in general, the left and right eigenvectors of a matrix are not\n",
      "necessarily the (perhaps conjugate) transposes of each other.\n",
      "\n",
      "References\n",
      "----------\n",
      "G. Strang, *Linear Algebra and Its Applications*, 2nd Ed., Orlando, FL,\n",
      "Academic Press, Inc., 1980, Various pp.\n",
      "\n",
      "Examples\n",
      "--------\n",
      ">>> from numpy import linalg as LA\n",
      "\n",
      "(Almost) trivial example with real eigenvalues and eigenvectors.\n",
      "\n",
      ">>> eigenvalues, eigenvectors = LA.eig(np.diag((1, 2, 3)))\n",
      ">>> eigenvalues\n",
      "array([1., 2., 3.])\n",
      ">>> eigenvectors\n",
      "array([[1., 0., 0.],\n",
      "       [0., 1., 0.],\n",
      "       [0., 0., 1.]])\n",
      "\n",
      "Real matrix possessing complex eigenvalues and eigenvectors; note that the\n",
      "eigenvalues are complex conjugates of each other.\n",
      "\n",
      ">>> eigenvalues, eigenvectors = LA.eig(np.array([[1, -1], [1, 1]]))\n",
      ">>> eigenvalues\n",
      "array([1.+1.j, 1.-1.j])\n",
      ">>> eigenvectors\n",
      "array([[0.70710678+0.j        , 0.70710678-0.j        ],\n",
      "       [0.        -0.70710678j, 0.        +0.70710678j]])\n",
      "\n",
      "Complex-valued matrix with real eigenvalues (but complex-valued eigenvectors);\n",
      "note that ``a.conj().T == a``, i.e., `a` is Hermitian.\n",
      "\n",
      ">>> a = np.array([[1, 1j], [-1j, 1]])\n",
      ">>> eigenvalues, eigenvectors = LA.eig(a)\n",
      ">>> eigenvalues\n",
      "array([2.+0.j, 0.+0.j])\n",
      ">>> eigenvectors\n",
      "array([[ 0.        +0.70710678j,  0.70710678+0.j        ], # may vary\n",
      "       [ 0.70710678+0.j        , -0.        +0.70710678j]])\n",
      "\n",
      "Be careful about round-off error!\n",
      "\n",
      ">>> a = np.array([[1 + 1e-9, 0], [0, 1 - 1e-9]])\n",
      ">>> # Theor. eigenvalues are 1 +/- 1e-9\n",
      ">>> eigenvalues, eigenvectors = LA.eig(a)\n",
      ">>> eigenvalues\n",
      "array([1., 1.])\n",
      ">>> eigenvectors\n",
      "array([[1., 0.],\n",
      "       [0., 1.]])\n"
     ]
    }
   ],
   "source": [
    "import inspect\n",
    "print(inspect.getdoc(np.linalg.eig))"
   ]
  },
  {
   "cell_type": "code",
   "execution_count": 14,
   "metadata": {
    "tags": []
   },
   "outputs": [
    {
     "name": "stdout",
     "output_type": "stream",
     "text": [
      "Returns a $G_{n,p}$ random graph, also known as an Erdős-Rényi graph\n",
      "or a binomial graph.\n",
      "\n",
      "The $G_{n,p}$ model chooses each of the possible edges with probability $p$.\n",
      "\n",
      "Parameters\n",
      "----------\n",
      "n : int\n",
      "    The number of nodes.\n",
      "p : float\n",
      "    Probability for edge creation.\n",
      "seed : integer, random_state, or None (default)\n",
      "    Indicator of random number generation state.\n",
      "    See :ref:`Randomness<randomness>`.\n",
      "directed : bool, optional (default=False)\n",
      "    If True, this function returns a directed graph.\n",
      "\n",
      "See Also\n",
      "--------\n",
      "fast_gnp_random_graph\n",
      "\n",
      "Notes\n",
      "-----\n",
      "This algorithm [2]_ runs in $O(n^2)$ time.  For sparse graphs (that is, for\n",
      "small values of $p$), :func:`fast_gnp_random_graph` is a faster algorithm.\n",
      "\n",
      ":func:`binomial_graph` and :func:`erdos_renyi_graph` are\n",
      "aliases for :func:`gnp_random_graph`.\n",
      "\n",
      ">>> nx.binomial_graph is nx.gnp_random_graph\n",
      "True\n",
      ">>> nx.erdos_renyi_graph is nx.gnp_random_graph\n",
      "True\n",
      "\n",
      "References\n",
      "----------\n",
      ".. [1] P. Erdős and A. Rényi, On Random Graphs, Publ. Math. 6, 290 (1959).\n",
      ".. [2] E. N. Gilbert, Random Graphs, Ann. Math. Stat., 30, 1141 (1959).\n"
     ]
    }
   ],
   "source": [
    "import inspect\n",
    "print(inspect.getdoc(nx.random_graphs.erdos_renyi_graph))"
   ]
  },
  {
   "cell_type": "code",
   "execution_count": 30,
   "metadata": {},
   "outputs": [
    {
     "name": "stdout",
     "output_type": "stream",
     "text": [
      "Draw the graph G with Matplotlib.\n",
      "\n",
      "Draw the graph as a simple representation with no node\n",
      "labels or edge labels and using the full Matplotlib figure area\n",
      "and no axis labels by default.  See draw_networkx() for more\n",
      "full-featured drawing that allows title, axis labels etc.\n",
      "\n",
      "Parameters\n",
      "----------\n",
      "G : graph\n",
      "    A networkx graph\n",
      "\n",
      "pos : dictionary, optional\n",
      "    A dictionary with nodes as keys and positions as values.\n",
      "    If not specified a spring layout positioning will be computed.\n",
      "    See :py:mod:`networkx.drawing.layout` for functions that\n",
      "    compute node positions.\n",
      "\n",
      "ax : Matplotlib Axes object, optional\n",
      "    Draw the graph in specified Matplotlib axes.\n",
      "\n",
      "kwds : optional keywords\n",
      "    See networkx.draw_networkx() for a description of optional keywords.\n",
      "\n",
      "Examples\n",
      "--------\n",
      ">>> G = nx.dodecahedral_graph()\n",
      ">>> nx.draw(G)\n",
      ">>> nx.draw(G, pos=nx.spring_layout(G))  # use spring layout\n",
      "\n",
      "See Also\n",
      "--------\n",
      "draw_networkx\n",
      "draw_networkx_nodes\n",
      "draw_networkx_edges\n",
      "draw_networkx_labels\n",
      "draw_networkx_edge_labels\n",
      "\n",
      "Notes\n",
      "-----\n",
      "This function has the same name as pylab.draw and pyplot.draw\n",
      "so beware when using `from networkx import *`\n",
      "\n",
      "since you might overwrite the pylab.draw function.\n",
      "\n",
      "With pyplot use\n",
      "\n",
      ">>> import matplotlib.pyplot as plt\n",
      ">>> G = nx.dodecahedral_graph()\n",
      ">>> nx.draw(G)  # networkx draw()\n",
      ">>> plt.draw()  # pyplot draw()\n",
      "\n",
      "Also see the NetworkX drawing examples at\n",
      "https://networkx.org/documentation/latest/auto_examples/index.html\n"
     ]
    }
   ],
   "source": [
    "print(inspect.getdoc(nx.draw))"
   ]
  }
 ],
 "metadata": {
  "kernelspec": {
   "display_name": "Python 3 (ipykernel)",
   "language": "python",
   "name": "python3"
  },
  "language_info": {
   "codemirror_mode": {
    "name": "ipython",
    "version": 3
   },
   "file_extension": ".py",
   "mimetype": "text/x-python",
   "name": "python",
   "nbconvert_exporter": "python",
   "pygments_lexer": "ipython3",
   "version": "3.11.4"
  }
 },
 "nbformat": 4,
 "nbformat_minor": 4
}
