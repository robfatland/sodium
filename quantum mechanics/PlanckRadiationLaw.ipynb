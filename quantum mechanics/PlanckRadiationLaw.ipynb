{
 "cells": [
  {
   "cell_type": "markdown",
   "id": "7f9b9fe3-c2cb-487a-b994-37004304036d",
   "metadata": {},
   "source": [
    "# Planck Radiation Law\n",
    "\n",
    "The question -- the burning question, so to speak -- is imagining a nearby star similar to our sun\n",
    "that is emitting light... and how many photons fall into our eye as we gaze upon it?\n",
    "\n",
    "\n",
    "The underlying *Sodium* question is how does one arrive at the Planck Radiation Law for \n",
    "energy emission by a blackbody? This is a problem in *thermodynamics*, a study of\n",
    "the distributed energy in an ensemble of particles: Distilling simple results from \n",
    "a great deal of distributed information which is at times called the *state of a system*.\n",
    "\n",
    "\n",
    "The big breakthrough here is the *Planck radiation law* abbreviated PRL. Upon revisiting this it is a \n",
    "nice starting exercise is to derive Wien's law (see below) from the PRL.\n",
    "\n",
    "\n",
    "Let's assume for the moment that the thermodynamics has been sorted out (actually \n",
    "I *defer* this to later) in order to press on with the question about light falling \n",
    "into one's eye. \n",
    "\n",
    "\n",
    "Here are the results needed: \n",
    "\n",
    "\n",
    "- the speed of light $c = 2.9979\\ e\\ 8 \\ \\ m/s$ (First determined by observing Jupiter's moons)\n",
    "- The energy of a photon of a given wavelength $\\lambda$ is $E_{phot} = h \\cdot c \\  /  \\lambda$\n",
    "    - $h$ is Planck's constant, $6.626e-34 \\ Joule \\ sec$.\n",
    "- The Stefan-Boltmann law for a power radiated per square meter by a blackbody with surface temperature $T$\n",
    "    - $\\begin{align}P = \\sigma T^4\\end{align}$\n",
    "    - The constant $\\begin{align}\\sigma = 5.67e-8 \\ W / {m^2 T^4}\\end{align}$\n",
    "    - $P$ is therefore in Watts per square meter or Joules per second per square meter\n",
    "        - The finesse: Express this energy in Joules in terms of the energy of a photon\n",
    "- Wien's law for blackbody radiation: The wavelength of maximum emission goes inversely as the temperature\n",
    "    - $\\begin{align}\\lambda_{M} = b \\ / \\ T\\end{align}$\n",
    "    - $\\begin{align}b = 2.898e-3 \\ m \\cdot K\\end{align}$\n",
    "- The radius of the sun is $700000 \\ km$\n",
    "- The surface temperature of the sun is about $5800 \\ K$\n",
    "- The number of seconds in a year is about $31557600 \\ s \\ / year$\n",
    "- The diameter of a night-adapted pupil is about $8 \\ millimeters$ in humans\n",
    "\n",
    "\n",
    "I proceed in MKS so...\n",
    "\n",
    "\n",
    "- the sun's radius is $7e8m$\n",
    "- a dark-adapted pupil has radius $4e-4 \\ m$\n",
    "- everything else is meters, seconds, degrees Kelvin, Watts, Joules... and there is no reference to mass so looks like MKS\n",
    "\n",
    "\n",
    "\n",
    "From this point it is simply a matter of arithmetic. \"Suppose all the photons emitted are of one wavelength\n",
    "(the peak wavelength) and so carry identical energy which sums to the energy emitted from the surface of the \n",
    "star per unit time. This radiation emanates outward for ten years. As it passes the earth it has become rather \n",
    "diffuse. A collector (the pupil) is placed in the light path; and what is the photon flux through this collector?\""
   ]
  },
  {
   "cell_type": "code",
   "execution_count": 17,
   "id": "d448c623-6500-4298-a9c7-dd859c3a8b3a",
   "metadata": {
    "tags": []
   },
   "outputs": [
    {
     "name": "stdout",
     "output_type": "stream",
     "text": [
      "Area ratio: human pupil to big sphere: 4.469076336177065e-42 \n",
      "\n",
      "The wavelength of max emission is 0.5 microns.\n",
      "    (Human vision is about 0.4 to 0.7 microns.)\n",
      "\n",
      "photon energy in Joules is ok for units: Joule-seconds times meters per second over meters\n",
      "energy of the average radiated photon is 3.9755588447204965e-19 Joules\n",
      "number of photons emitted by the star, per second: 9.938086925953914e+44\n",
      "\n",
      "\n",
      "Notice the pupil-to-big-sphere ratio is quite small while the total\n",
      "  number of emitted photons is quite large... so we must be about to\n",
      "  multiply them together to get something reasonable...\n",
      "\n",
      "\n",
      "...so (pupil area / big sphere area) * emitted photons = photons entering eye.\n",
      "\n",
      "\n",
      "photons entering the eye each second: 4441\n",
      "\n",
      "\n",
      "...interesting!\n",
      "\n",
      "\n"
     ]
    }
   ],
   "source": [
    "from math import pi\n",
    "\n",
    "sigma = 5.67e-8\n",
    "T = 5800\n",
    "c = 2.9979e8\n",
    "seconds_per_year = 31557600\n",
    "n_years = 10\n",
    "b = 2.898e-3\n",
    "pupil_radius = 4e-4\n",
    "r_sun = 7e8\n",
    "h = 6.626e-34\n",
    "\n",
    "big_radius = c * seconds_per_year * n_years         # Ten light years converted to meters\n",
    "big_sphere_area = 4 * pi * big_radius**2            # Area of sphere of this radius\n",
    "pupil_area = pi * pupil_radius**2                   # Area of a pupil (eye)\n",
    "\n",
    "print(\"Area ratio: human pupil to big sphere:\", pupil_area/big_sphere_area, '\\n')\n",
    "\n",
    "wavelength = b/T\n",
    "\n",
    "print(\"The wavelength of max emission is \" + str(round(wavelength*1e6, 3)) + \" microns.\")\n",
    "print(\"    (Human vision is about 0.4 to 0.7 microns.)\\n\")\n",
    "\n",
    "area_sun = 4 * pi * r_sun**2\n",
    "sun_energy_per_second = sigma*(T**4) * area_sun\n",
    "photon_energy = h * c / wavelength\n",
    "\n",
    "\n",
    "print(\"photon energy in Joules is ok for units: Joule-seconds times meters per second over meters\")\n",
    "print(\"energy of the average radiated photon is\", photon_energy, \"Joules\")\n",
    "\n",
    "\n",
    "# sun energy per second units: W m-2 K-4 K**4 * m**2 = W = Joules / sec\n",
    "\n",
    "photons_per_second = sun_energy_per_second / photon_energy\n",
    "\n",
    "print(\"number of photons emitted by the star, per second:\", photons_per_second)\n",
    "\n",
    "print()\n",
    "print()\n",
    "print(\"Notice the pupil-to-big-sphere ratio is quite small while the total\")\n",
    "print(\"  number of emitted photons is quite large... so we must be about to\")\n",
    "print(\"  multiply them together to get something reasonable...\")\n",
    "print()\n",
    "print()\n",
    "print(\"...so (pupil area / big sphere area) * emitted photons = photons entering eye.\")\n",
    "print()\n",
    "print()\n",
    "print(\"photons entering the eye each second:\", int(photons_per_second*pupil_area/big_sphere_area))\n",
    "print()\n",
    "print()\n",
    "print(\"...interesting!\")\n",
    "print()\n",
    "print()"
   ]
  },
  {
   "cell_type": "markdown",
   "id": "2de35b8e-0c8a-4301-a3d0-c975b3321078",
   "metadata": {},
   "source": [
    "The following is a simplified version of this calculation. The derived 'aggregated'\n",
    "radius $r$ combines the radius of the sun, the radius of a big sphere 20 light years \n",
    "across and the radius of a light-collecting pupil. $r$ sensibly places the pupil \n",
    "and the sun radii in the numerator and the big radius in the denominator.\n",
    "\n",
    "\n",
    "The units reduce to *photons per second*, and one other observation: \n",
    "The number of photons per second $n$ goes as the cube of the temperature.\n",
    "\n",
    "\n",
    "$\\begin{align}\n",
    "n = \\frac{\\pi \\sigma b r^2 T^3}{h \\cdot c}\n",
    "\\end{align}$"
   ]
  },
  {
   "cell_type": "code",
   "execution_count": 18,
   "id": "55d8a7c8-6c8f-44e8-bfc6-39c19e623a53",
   "metadata": {
    "tags": []
   },
   "outputs": [
    {
     "data": {
      "text/plain": [
       "4441.0"
      ]
     },
     "execution_count": 18,
     "metadata": {},
     "output_type": "execute_result"
    }
   ],
   "source": [
    "R = c*seconds_per_year*n_years                    # 10 light years converted to meters\n",
    "r = r_sun * pupil_radius / R                      # radius of collector (a pupil) scaled by sun/big radii\n",
    "round(pi * sigma * b * r**2 * T**3 / (h*c), 0)    # number of photons"
   ]
  },
  {
   "cell_type": "markdown",
   "id": "4a64c950-af67-4fb3-b32c-2e1e82b8023d",
   "metadata": {},
   "source": [
    "## Wien's Law from the PRL\n",
    "\n",
    "## Deriving the PRL\n",
    "\n",
    "## Does the PRL connect in some way with the heat equation?"
   ]
  },
  {
   "cell_type": "code",
   "execution_count": null,
   "id": "0dc3e9c3-0f64-441c-bc6e-ba4bf39f9e43",
   "metadata": {},
   "outputs": [],
   "source": []
  }
 ],
 "metadata": {
  "kernelspec": {
   "display_name": "Python 3 (ipykernel)",
   "language": "python",
   "name": "python3"
  },
  "language_info": {
   "codemirror_mode": {
    "name": "ipython",
    "version": 3
   },
   "file_extension": ".py",
   "mimetype": "text/x-python",
   "name": "python",
   "nbconvert_exporter": "python",
   "pygments_lexer": "ipython3",
   "version": "3.11.4"
  }
 },
 "nbformat": 4,
 "nbformat_minor": 5
}
