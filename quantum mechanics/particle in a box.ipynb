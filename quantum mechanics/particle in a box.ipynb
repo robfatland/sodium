{
 "cells": [
  {
   "cell_type": "markdown",
   "id": "dac4e220-5548-4c95-a9f1-ea292a96f141",
   "metadata": {},
   "source": [
    "# particle in a box (piab)\n",
    "\n",
    "## a simple idea\n",
    "\n",
    "A great feature of quantum mechanics is -- because it is so *strange* -- we are at liberty to \n",
    "do anything our imagination suggests in our attempts to comprehend *something* of what is going on.\n",
    "\n",
    "\n",
    "First rule of quantum mechanics: If something unpleasant is going on (say mathematically):\n",
    "Our first approach will be to quietly wander away to somewhere else that is not unpleasant.\n",
    "\n",
    "\n",
    "A major triumph of quantum mechanics was a mathematical solution of the Hydrogen atom, the\n",
    "'proton + electron' system, where predictions could be made and compared with experiment...\n",
    "and the results were excellent. Maybe not perfect; but close enough to convince people that\n",
    "they were on to something. My understanding is that the Hydrogen atom solution involved some\n",
    "approximations; anyway it was a next step improving on Bohr's atom.\n",
    "\n",
    "\n",
    "The purpose of this notebook is to consider a simpler quantum system called the \"particle\n",
    "in a box\" abbreviated **pib** or **piab**. The intent is that this system has quantum\n",
    "mechanical features that are realistic and instructive. We begin by throwing out the proton\n",
    "and ignoring the charge of the remaining particle. We won't call it an electron; it will\n",
    "simply be \"the particle\". Feel free to pronounce that with a New Yorker accent.\n",
    "\n",
    "\n",
    "> **Simplification 1**: We work in a 1-dimensional world: The particle exists along one axis with coordinate $x$.\n",
    "\n",
    "\n",
    "> **Simplification 2**: We use an \"unrealistic\" potential energy function. More on this in a bit.\n",
    "\n",
    "\n",
    "\n",
    "If this first phase goes well\n",
    "we might nudge this potential function in the direction of a little more realisim."
   ]
  },
  {
   "cell_type": "markdown",
   "id": "4f8f7ebb-12c5-4983-8e44-40747b66846e",
   "metadata": {},
   "source": [
    "## Diversion: MIT PChem Quantum Mechanics\n",
    "\n",
    "\n",
    "[link to lecture series]()\n",
    "\n",
    "\n",
    "Suppose we had a linear transform $\\hat{T}$ in $n$-dimensional vector space. We know that $\\hat{T}$ maps\n",
    "zero to zero and that it preserves parallel lines. Using sharper mathematical language: We know\n",
    "$\\hat{T} \\; (a \\vec{x} + b \\vec{y}) = a \\hat{T}(\\vec{x}) + b \\hat{T}(\\vec{y})$ where $a$ and $b$ \n",
    "are scalars. \n",
    "\n",
    "\n",
    "This leads to this whole business about expressing the particular character of the transform $\\hat{T}$\n",
    "in terms of eigenvalues and eigenvectors: $\\hat{T} \\; \\vec{x} \\; = \\; \\lambda \\; \\vec{x}$. What are \n",
    "the directions (the \"lines\") that $\\hat{T}$ maps into themselves; and with what scaling factor ($\\lambda$).\n",
    "\n",
    "\n",
    "Notice our dimension is $n$ and while it is pleasant to think about $n=2$ we concede that $n$ might be $7$\n",
    "or $53$ or $7,900,002$. Here, then, is a leap for you to consider: Why not think about *functions* as\n",
    "many-valued or high-dimension vectors? This is just a thought about the *analogy*; it is not a formal\n",
    "statement. Both vectors and functions contain the concept of ordering: In a vector the components are\n",
    "ordered by subscripts $1$, $2$, $\\dots,$ $n$. In a function the \"x axis\" provides implicit order:\n",
    "function values from left to right for example.\n",
    "\n",
    "\n",
    "The point of this thought is we could imagine migrating from a linear vector space to a \n",
    "linear *function* space where the rules are downright similar. In LFS we could imagine\n",
    "the operators do not transform vectors into new vectors. They transform functions into new functions.\n",
    "LFS operators would be required to be linear. They could have eigenvalues and eigen*functions*."
   ]
  },
  {
   "cell_type": "markdown",
   "id": "787d5a02-d463-4ef1-aa20-92ca1c408b08",
   "metadata": {},
   "source": [
    "## Potential functions\n",
    "\n",
    "\n",
    "What is meant by a quantum mechanical potential? The potential has units of energy and it is\n",
    "associated with (is a function of) spatial location. We are thinking about quantum systems that\n",
    "are *localized* in this initial stage of exploration. Suppose we are thinking about a proton\n",
    "with a $(+)$ charge in relation to an atomic nucleus with a *lot* of positive charge. The \n",
    "potential energy from the point of view of the single proton is very *high* in the direction\n",
    "of the nucleus. The obvious analog is gravity where the potential increases as we go up a hill.\n",
    "\n",
    "\n",
    "For piab let us define the potential $V(x)$ to be infinite for $x < 0$ and $x > L$. Otherwise \n",
    "the potential will be zero, in the region $0 \\le x \\le L$. We have an infinitely\n",
    "deep square well in one dimension. Into this well we imagine dropping a particle with some\n",
    "rest mass $m$ that will *exist* in this well. This existence is to be described by a wave\n",
    "function that is a solution to the wave equation. \n",
    "\n",
    "\n",
    "Once we have gone through the solution let's return to these two related ideas: A differential\n",
    "equation that somehow provides the \"rules\" for this strange reality, and the solutions to that\n",
    "differential equation which provides a view of how this particle obeys those rules. So place\n",
    "a bookmark on that for the moment. "
   ]
  },
  {
   "cell_type": "markdown",
   "id": "3389d9b5-d26f-4025-9ed9-83e90508c520",
   "metadata": {},
   "source": [
    "If $\\Psi(x, t)$ is the solution then the complete form of the wave equation\n",
    "is as follows: \n",
    "\n",
    "\n",
    "$\\begin{align}\n",
    "i\\hbar\\frac{\\partial}{\\partial t}\\psi(x,t) = -\\frac{\\hbar^2}{2m}\\frac{\\partial^2}{\\partial x^2}\\psi(x,t) +V(x)\\psi(x,t)\n",
    "\\end{align}$\n",
    "\n",
    "\n",
    "This is often called the Schrodinger equation. I will make a series of observations in an \n",
    "attempt to deconstruct it so that I can make guesses for $\\Psi$."
   ]
  },
  {
   "cell_type": "markdown",
   "id": "14711ea5-c0e5-4b0c-ab5f-54b63a9e198b",
   "metadata": {},
   "source": [
    "First notice the presence of $i = e^{i\\frac{\\pi}{2}}$ indicating that we are working in\n",
    "a complex function space, in particular on the unit circle. \n",
    "\n",
    "\n",
    "Second notice that the wave function $\\Psi$ has both a time and a space variable. The wave function\n",
    "will vary from one place to another at any given instant... and it will vary at one place from one \n",
    "instant to another. \n",
    "\n",
    "\n",
    "Third a partial derivative in time indicates that we will want $\\Psi$ to be differentiable in time.\n",
    "\n",
    "\n",
    "Fourth there is a real-valued constant of nature called $\\hbar$ (also called \"Planck's constant\") \n",
    "that has units of $energy \\; \\times \\; time$. In units of Joules and seconds the numerical value \n",
    "of $\\hbar$ is $1 \\times {10}^{-34}$. That's pretty small; in keeping with the small physical nature \n",
    "of particles and distances in quantum systems. \n",
    "\n",
    "\n",
    "Fifth: present is the particle's mass $m$ which will also be small. \n",
    "\n",
    "\n",
    "Sixth: Here at the end is the \n",
    "appearance of the potential function described above, $V(x)$.\n",
    "\n",
    "\n",
    "These six observations are a way of deconstructing the wave function into plausible ingredients \n",
    "of a picture, the piab problem. Now let's just solve the equation by guessing solutions. \n",
    "\n",
    "\n",
    "\n",
    "\n",
    "\n",
    "\n"
   ]
  },
  {
   "cell_type": "markdown",
   "id": "bfc2ad4a-5e05-4f40-817e-794e6e27ff2e",
   "metadata": {},
   "source": [
    "My first guess is that the wave function $\\Psi$ has value *zero* outside the box. \n",
    "If not: We multiply that non-zero by infinity and get some kind of infinity... \n",
    "and this is unpleasant. First rule of quantum mechanics: Let's wander back to\n",
    "this first guess: $\\Psi(x < 0, \\; t) = \\Psi(x > L, \\; t) = 0$."
   ]
  },
  {
   "cell_type": "markdown",
   "id": "224e1b42-e4aa-42ef-9435-c2560c8b25f3",
   "metadata": {},
   "source": [
    "Notice: We could just say $\\Psi = 0$ everywhere but this is uninteresting: The particle does not exist anywhere.\n",
    "\n",
    "\n",
    "Coming up eventually: The wavefunction inside the box must connect with the two values of zero at the boundaries\n",
    "of the box. That is: $\\Psi \\ne 0$ for $0 < x < L$ but $\\Psi(x, t)$ must be $0$ at $x=0$ and $x=L$. \n",
    "\n"
   ]
  },
  {
   "cell_type": "markdown",
   "id": "4146aa3f-3db9-4b2e-b1a6-fc7142436a10",
   "metadata": {},
   "source": [
    "My second guess is not too much of a stretch: We solve the wave equation inside the square\n",
    "well so the potential term is zero because the potential here is zero. Now we have on $[0, L]$:\n",
    "\n",
    "\n",
    "$\\begin{align}\n",
    "i\\hbar\\frac{\\partial}{\\partial t}\\psi(x,t) = -\\frac{\\hbar^2}{2m}\\frac{\\partial^2}{\\partial x^2}\\psi(x,t)\n",
    "\\end{align}$"
   ]
  },
  {
   "cell_type": "markdown",
   "id": "4fc04c80-29ec-4149-b0e9-9cadbf7aaccc",
   "metadata": {},
   "source": [
    "My third guess is that time and space components of $\\Psi$ can be separated apart as\n",
    "two functions that are multiplied together: $\\Psi(x, t) = Spatial(x) \\cdot Time(t) = R(x) \\cdot T(t)$."
   ]
  },
  {
   "cell_type": "markdown",
   "id": "64c7df56-e3f4-4e5d-a0cd-2f5e6689f820",
   "metadata": {},
   "source": [
    "The third guess is *pleasant* because it means we can take partial derivatives of either $R(x)$ \n",
    "or $T(t)$ while treating the other part as a constant. I think the term is *separable*. "
   ]
  },
  {
   "cell_type": "markdown",
   "id": "7d8de939-3ad4-4cd4-9c91-da1ba5b18bbd",
   "metadata": {},
   "source": []
  },
  {
   "cell_type": "markdown",
   "id": "0a6766e9-ee2e-43d6-950b-5ea16307bdc9",
   "metadata": {},
   "source": []
  }
 ],
 "metadata": {
  "kernelspec": {
   "display_name": "Python 3 (ipykernel)",
   "language": "python",
   "name": "python3"
  },
  "language_info": {
   "codemirror_mode": {
    "name": "ipython",
    "version": 3
   },
   "file_extension": ".py",
   "mimetype": "text/x-python",
   "name": "python",
   "nbconvert_exporter": "python",
   "pygments_lexer": "ipython3",
   "version": "3.12.2"
  }
 },
 "nbformat": 4,
 "nbformat_minor": 5
}
